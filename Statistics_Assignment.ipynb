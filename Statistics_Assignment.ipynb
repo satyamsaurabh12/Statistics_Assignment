{
 "cells": [
  {
   "cell_type": "code",
   "execution_count": 1,
   "id": "d0de0b92",
   "metadata": {},
   "outputs": [],
   "source": [
    "import numpy as np\n",
    "import pandas as pd\n",
    "import seaborn as sns\n",
    "import matplotlib.pyplot as plt\n",
    "import statistics\n",
    "import scipy.stats as stats"
   ]
  },
  {
   "cell_type": "code",
   "execution_count": 2,
   "id": "1b79cd02",
   "metadata": {},
   "outputs": [
    {
     "name": "stdout",
     "output_type": "stream",
     "text": [
      "The mean of Data is : 111.73\n",
      "The median of Data is : 114.0\n"
     ]
    }
   ],
   "source": [
    "# Q1. Generate a list of 100 integers containing values between 90 to R30 and store it in the variable `int_list`. \n",
    "# After generating the list, find the following:\n",
    "# A. Write a Python function to calculate the mean of a given list of numbers.Create a function to find the median of a list of numbers.\n",
    "data=np.random.randint(90,130,100 )\n",
    "def calculate_mean(x):\n",
    "    return np.mean(x)\n",
    "def calculate_median(x):\n",
    "    return np.median(x)\n",
    "print(\"The mean of Data is :\",calculate_mean(data))\n",
    "print(\"The median of Data is :\",calculate_median(data))"
   ]
  },
  {
   "cell_type": "code",
   "execution_count": 3,
   "id": "a80f20dd",
   "metadata": {},
   "outputs": [
    {
     "name": "stdout",
     "output_type": "stream",
     "text": [
      "The Mode of Data is: 117\n"
     ]
    }
   ],
   "source": [
    "# B. Develop a program to compute the mode of a list of integers.\n",
    "def calculate_mode(x):\n",
    "    return statistics.mode(x)\n",
    "print(\"The Mode of Data is:\",calculate_mode(data))\n",
    "    "
   ]
  },
  {
   "cell_type": "code",
   "execution_count": 4,
   "id": "7a81abda",
   "metadata": {},
   "outputs": [
    {
     "name": "stdout",
     "output_type": "stream",
     "text": [
      "The Value of Weighted mean : 111.046731422591\n"
     ]
    }
   ],
   "source": [
    "# C. Implement a function to calculate the weighted mean of a list of values and their corresponding weights.\n",
    "values=np.random.rand(1,100)\n",
    "value=values[0]\n",
    "sum1=0\n",
    "for i in range(0,100):\n",
    "    sum1=sum1+ value[i]*data[i]  \n",
    "sum_of_value=np.sum(value)  \n",
    "weighted_mean = sum1/sum_of_value\n",
    "print(\"The Value of Weighted mean :\",weighted_mean)"
   ]
  },
  {
   "cell_type": "code",
   "execution_count": 5,
   "id": "1309ac58",
   "metadata": {},
   "outputs": [
    {
     "name": "stdout",
     "output_type": "stream",
     "text": [
      "The geometric mean is: 0.3602062855831996\n"
     ]
    }
   ],
   "source": [
    "# D.  Write a Python function to find the geometric mean of a list of positive numbers.\n",
    "def geometric_mean(x):\n",
    "    n= len(x)\n",
    "    product=1\n",
    "    for i in x:\n",
    "        product=product*i\n",
    "    value=product**(1/n)\n",
    "    return value\n",
    "result= geometric_mean(value)\n",
    "print(\"The geometric mean is:\",result)\n",
    "        "
   ]
  },
  {
   "cell_type": "code",
   "execution_count": 6,
   "id": "5e117b35",
   "metadata": {},
   "outputs": [
    {
     "name": "stdout",
     "output_type": "stream",
     "text": [
      "The Value of Harmonic mean is : 0.1543364057814751\n"
     ]
    }
   ],
   "source": [
    "# E. Create a program to calculate the harmonic mean of a list of values.\n",
    "def harmonic_mean(x):\n",
    "    n=len(x)\n",
    "    sum1=0\n",
    "    for element in x:\n",
    "        sum1=sum1 + (1/element)\n",
    "\n",
    "    value= n/sum1\n",
    "    return value\n",
    "print(\"The Value of Harmonic mean is :\",harmonic_mean(value))\n",
    "    "
   ]
  },
  {
   "cell_type": "code",
   "execution_count": 7,
   "id": "6de48a4e",
   "metadata": {},
   "outputs": [
    {
     "name": "stdout",
     "output_type": "stream",
     "text": [
      "The Avg of Minimum and Maximum value is : 110.0\n"
     ]
    }
   ],
   "source": [
    "# F. Build a function to determine the midrange of a list of numbers (average of the minimum and maximum).\n",
    "def find_midvalue(x):\n",
    "    maxi=np.max(x)\n",
    "    mini=np.min(x)\n",
    "    avg=(maxi+ mini)/2\n",
    "    return avg\n",
    "val= np.random.randint(90,130,100)\n",
    "print(\"The Avg of Minimum and Maximum value is :\",find_midvalue(val))\n",
    "\n"
   ]
  },
  {
   "cell_type": "code",
   "execution_count": 8,
   "id": "cad219f7",
   "metadata": {},
   "outputs": [
    {
     "name": "stdout",
     "output_type": "stream",
     "text": [
      "[114, 117, 122, 125, 114, 112, 105, 105, 120, 117, 119, 124, 111, 128, 90, 120, 123, 120, 110, 102, 105, 123, 120, 123, 102, 113, 118, 90, 122, 107, 117, 90, 93, 97, 124, 127, 108, 99, 128, 99, 128, 94, 105, 119, 107, 124, 98, 116, 112, 109, 127, 114, 116, 112, 119, 104, 116, 120, 118, 117, 117, 115, 124, 120, 125, 114, 100, 127, 98, 116, 94, 126, 92, 114, 107, 121, 95, 110, 96, 91, 125, 108, 91, 109, 107, 101, 121, 112, 97, 126, 118, 110, 91, 121, 96, 116, 108, 118, 101, 117, -10, -20, 500, 700, 1000]\n"
     ]
    }
   ],
   "source": [
    "# G.Implement a Python program to find the trimmed mean of a list, excluding a certain percentage of  outliers.\n",
    "data=list(data)\n",
    "data.append(-10)\n",
    "data.append(-20)\n",
    "data.append(500)\n",
    "data.append(700)\n",
    "data.append(1000)\n",
    "print(data)"
   ]
  },
  {
   "cell_type": "code",
   "execution_count": 9,
   "id": "70a59ad3",
   "metadata": {},
   "outputs": [
    {
     "name": "stdout",
     "output_type": "stream",
     "text": [
      "[-20, -10, 90, 90, 90, 91, 91, 91, 92, 93, 94, 94, 95, 96, 96, 97, 97, 98, 98, 99, 99, 100, 101, 101, 102, 102, 104, 105, 105, 105, 105, 107, 107, 107, 107, 108, 108, 108, 109, 109, 110, 110, 110, 111, 112, 112, 112, 112, 113, 114, 114, 114, 114, 114, 115, 116, 116, 116, 116, 116, 117, 117, 117, 117, 117, 117, 118, 118, 118, 118, 119, 119, 119, 120, 120, 120, 120, 120, 120, 121, 121, 121, 122, 122, 123, 123, 123, 124, 124, 124, 124, 125, 125, 125, 126, 126, 127, 127, 127, 128, 128, 128, 500, 700, 1000]\n"
     ]
    }
   ],
   "source": [
    "data=sorted(data)\n",
    "print(data)"
   ]
  },
  {
   "cell_type": "code",
   "execution_count": 10,
   "id": "25e15024",
   "metadata": {},
   "outputs": [
    {
     "name": "stdout",
     "output_type": "stream",
     "text": [
      "104.0\n",
      "120.0\n"
     ]
    }
   ],
   "source": [
    "ls=np.percentile(data,[25,75])\n",
    "Q1=ls[0]\n",
    "Q3=ls[1]\n",
    "print(Q1)\n",
    "print(Q3)"
   ]
  },
  {
   "cell_type": "code",
   "execution_count": 11,
   "id": "46377b84",
   "metadata": {},
   "outputs": [
    {
     "name": "stdout",
     "output_type": "stream",
     "text": [
      "The Trimmed mean of this Data is after removing outlier : 111.73\n"
     ]
    }
   ],
   "source": [
    "IQR=Q3-Q1\n",
    "lf=Q1-IQR*1.5\n",
    "new_data=[]\n",
    "uf=Q3+1.5*IQR\n",
    "for dat in data:\n",
    "    if(dat<=uf and dat>=lf):\n",
    "        new_data.append(dat)    \n",
    "print(\"The Trimmed mean of this Data is after removing outlier :\",np.mean(new_data))       \n",
    "       \n",
    "        \n",
    "        "
   ]
  },
  {
   "cell_type": "code",
   "execution_count": 12,
   "id": "f3fddf23",
   "metadata": {},
   "outputs": [],
   "source": [
    "# 2. Generate a list of 500 integers containing values between 200 to 300 and store it in the variable `int_list2`. \n",
    " # After generating the list, find the following: "
   ]
  },
  {
   "cell_type": "code",
   "execution_count": 13,
   "id": "46bd1fd4",
   "metadata": {},
   "outputs": [
    {
     "data": {
      "image/png": "[encoded data removed]",
      "text/plain": [
       "<Figure size 640x480 with 1 Axes>"
      ]
     },
     "metadata": {},
     "output_type": "display_data"
    }
   ],
   "source": [
    "#  (i) Compare the given list of visualization for the given data:\n",
    "#     1. Frequency & Gaussian distribution\n",
    "\n",
    "# For Frequency distribution histogram\n",
    "data1=np.random.randint(200,300,500)\n",
    "plt.hist(data1,bins=20,edgecolor=\"grey\",density=True)\n",
    "\n",
    "# for Gaussian distribution\n",
    "mean=np.mean(data1)\n",
    "std_dev= np.std(data1)\n",
    "xmin,xmax= plt.xlim() # -> This give the min x value and max x value\n",
    "x=np.linspace(xmin,xmax,100)\n",
    "p=stats.norm.pdf(x,mean,std_dev)\n",
    "plt.plot(x,p,'k',linewidth=1.2)\n",
    "title= \"Fit results: mean = %.2f,  std = %.2f\" % (mean, std_dev)\n",
    "\n",
    "plt.title(title)\n",
    "plt.show()\n",
    "\n",
    "\n"
   ]
  },
  {
   "cell_type": "code",
   "execution_count": 14,
   "id": "19982c01",
   "metadata": {},
   "outputs": [
    {
     "data": {
      "image/png": "[encoded data removed]",
      "text/plain": [
       "<Figure size 640x480 with 1 Axes>"
      ]
     },
     "metadata": {},
     "output_type": "display_data"
    }
   ],
   "source": [
    "\n",
    "#     2. Frequency smoothened KDE plot\n",
    "plt.hist(data1,bins=20, density=True,edgecolor=\"blue\",color=\"g\")\n",
    "sns.kdeplot(data1,color='blue',linewidth=2)\n",
    "plt.show()\n"
   ]
  },
  {
   "cell_type": "code",
   "execution_count": 15,
   "id": "3152d574",
   "metadata": {},
   "outputs": [
    {
     "data": {
      "image/png": "[encoded data removed]",
      "text/plain": [
       "<Figure size 640x480 with 1 Axes>"
      ]
     },
     "metadata": {},
     "output_type": "display_data"
    }
   ],
   "source": [
    "#     3. Gaussian distribution & smoothened KDE plot\n",
    "\n",
    "sns.kdeplot(data1,color='blue',linewidth=2,label='Kde')\n",
    "# for Gaussian distribution\n",
    "mean=np.mean(data1)\n",
    "std_dev= np.std(data1)\n",
    "xmin,xmax= plt.xlim() # -> This give the min x value and max x value\n",
    "x=np.linspace(xmin,xmax,100)\n",
    "p=stats.norm.pdf(x,mean,std_dev)\n",
    "plt.plot(x,p,'k',linewidth=1.2,label='Gaussian')\n",
    "title= \"Fit results: mean = %.2f,  std = %.2f\" % (mean, std_dev)\n",
    "\n",
    "plt.title(title)\n",
    "plt.legend()\n",
    "plt.show()\n",
    "\n"
   ]
  },
  {
   "cell_type": "code",
   "execution_count": 16,
   "id": "3351e2e4",
   "metadata": {},
   "outputs": [
    {
     "name": "stdout",
     "output_type": "stream",
     "text": [
      "The Range of data is :  from 200 to 299\n"
     ]
    }
   ],
   "source": [
    "#   (ii) Write a Python function to calculate the range of a given list of numbers.\n",
    "def finding_range(x):\n",
    "    max=str(np.max(x))\n",
    "    min=str(np.min(x))\n",
    "    return f' from {min} to {max}'\n",
    "print(\"The Range of data is :\",finding_range(data1))"
   ]
  },
  {
   "cell_type": "code",
   "execution_count": 17,
   "id": "6fd71011",
   "metadata": {},
   "outputs": [
    {
     "name": "stdout",
     "output_type": "stream",
     "text": [
      "Variance is :864.3965759999999 and standard variance is :29.40062203423594\n"
     ]
    }
   ],
   "source": [
    "#   (iii) Create a program to find the variance and standard deviation of a list of numbers.\n",
    "def finding_var_std(x):\n",
    "    var=str(np.var(x))\n",
    "    std_dev=str(np.std(x))\n",
    "    return f'Variance is :{var} and standard variance is :{std_dev}'\n",
    "print(finding_var_std(data1))"
   ]
  },
  {
   "cell_type": "code",
   "execution_count": 18,
   "id": "5c456df1",
   "metadata": {},
   "outputs": [
    {
     "name": "stdout",
     "output_type": "stream",
     "text": [
      "The interquartile range (IQR) is : 50.0\n"
     ]
    }
   ],
   "source": [
    "# (iv) Implement a function to compute the interquartile range (IQR) of a list of values.\n",
    "def finding_IQR(x):\n",
    "    lis=np.percentile(x,[25,75])\n",
    "    Q1=lis[0]\n",
    "    Q3= lis[1]\n",
    "    IQR= Q3-Q1\n",
    "    return IQR\n",
    "print(\"The interquartile range (IQR) is :\",finding_IQR(data1))\n",
    "\n"
   ]
  },
  {
   "cell_type": "code",
   "execution_count": 19,
   "id": "64df68de",
   "metadata": {},
   "outputs": [
    {
     "name": "stdout",
     "output_type": "stream",
     "text": [
      "The Coefficient of Data is : 0.11696246950381886\n"
     ]
    }
   ],
   "source": [
    "#   (v) Build a program to calculate the coefficient of variation for a dataset.\n",
    "# Coefficient of Variation:- The Ratio between standard deviation and absolute mean.\n",
    "def finding_coeff_vari(x):\n",
    "    std_dev= np.std(x)\n",
    "    mean=abs(np.mean(x))\n",
    "    ratio= std_dev/mean\n",
    "    return ratio\n",
    "print(\"The Coefficient of Data is :\",finding_coeff_vari(data1))\n",
    "    \n",
    "    "
   ]
  },
  {
   "cell_type": "code",
   "execution_count": 20,
   "id": "29a71ecb",
   "metadata": {},
   "outputs": [
    {
     "name": "stdout",
     "output_type": "stream",
     "text": [
      "The Mean absolute deviation(MOD) of data1 is : 25.57999999999999\n"
     ]
    }
   ],
   "source": [
    "#   (vi) Write a Python function to find the mean absolute deviation (MAD) of a list of numbers.\n",
    "def finding_mean_abso_devi(x):\n",
    "    mean= np.mean(data1)\n",
    "    sum1=0\n",
    "    n= len(data1)\n",
    "    for data in data1:\n",
    "        sum1 = sum1 + abs(data-mean)\n",
    "    value= sum1/n\n",
    "    return value\n",
    "print(\"The Mean absolute deviation(MOD) of data1 is :\",finding_mean_abso_devi(data1))\n",
    "        "
   ]
  },
  {
   "cell_type": "code",
   "execution_count": 21,
   "id": "5be487f1",
   "metadata": {},
   "outputs": [
    {
     "name": "stdout",
     "output_type": "stream",
     "text": [
      "The Quartile deviation of the Data is : 25.0\n"
     ]
    }
   ],
   "source": [
    "#   (vii) Create a program to calculate the quartile deviation of a list of values. \n",
    "# Quartile deviation :- It is the average of diffenece between the first quartile and third quartile in\n",
    "# the frequency distribution table.\n",
    "def finding_quartile_devi(x):\n",
    "    lis=np.percentile(x,[25,75])\n",
    "    Q1=lis[0]\n",
    "    Q3= lis[1]\n",
    "    devi= (Q3-Q1)/2\n",
    "    return devi\n",
    "print(\"The Quartile deviation of the Data is :\",finding_quartile_devi(data1))\n",
    "    "
   ]
  },
  {
   "cell_type": "code",
   "execution_count": 22,
   "id": "9ae82fb8",
   "metadata": {},
   "outputs": [
    {
     "name": "stdout",
     "output_type": "stream",
     "text": [
      "The Range -Based-Coefficient of Deviation is : 0.19839679358717435\n"
     ]
    }
   ],
   "source": [
    "# (viii) Implement a function to find the range-based coefficient of dispersion for a dataset.  \n",
    "# Range-Based-Coefficient of Deviation :- the Ratio of (maximum value- minimum value) and (maximum value + minimum value).\n",
    "def finding_range_based_coeff_dispersion(x):\n",
    "    maxi= np.max(x)\n",
    "    mini= np.min(x)\n",
    "    num= maxi-mini\n",
    "    denomi= maxi+mini\n",
    "    value= num/denomi\n",
    "    return value\n",
    "print(\"The Range -Based-Coefficient of Deviation is :\",finding_range_based_coeff_dispersion(data1))"
   ]
  },
  {
   "cell_type": "code",
   "execution_count": 23,
   "id": "21bc3c7b",
   "metadata": {},
   "outputs": [
    {
     "name": "stdout",
     "output_type": "stream",
     "text": [
      "The Expected Value is: 3.5\n",
      "The Variance is : 11.666666666666666\n"
     ]
    }
   ],
   "source": [
    "# Q3. Write a Python class representing a discrete random variable with methods to calculate its expected \n",
    "# value and variance.\n",
    "class RandomVariable:\n",
    "    def __init__(self,values,probabilities):\n",
    "        self.values=values\n",
    "        self.probabilities = probabilities\n",
    "    def finding_expected_value(self):\n",
    "        leng= len(self.values)\n",
    "        sum1=0\n",
    "        for i in range(0,leng):\n",
    "            sum1 =sum1 + self.values[i]*self.probabilities[i]\n",
    "        return sum1\n",
    "    def finding_variance(self):\n",
    "        leng= len(self.values)\n",
    "        sum2=0\n",
    "        sum1=0\n",
    "        for i in range(0,leng):\n",
    "            sum2 =sum2 + (self.values[i]**2)*self.probabilities[i]\n",
    "            sum1 = sum1 +(self.values[i])*self.probabilities[i]\n",
    "        dif= sum2-sum1\n",
    "        return dif\n",
    "value=[1,2,3,4,5,6]\n",
    "prob=[1/6 for i in range(0,len(value))]\n",
    "obj1= RandomVariable(value,prob)\n",
    "print(\"The Expected Value is:\",obj1.finding_expected_value())\n",
    "print(\"The Variance is :\",obj1.finding_variance())"
   ]
  },
  {
   "cell_type": "code",
   "execution_count": 24,
   "id": "32dd6d53",
   "metadata": {},
   "outputs": [
    {
     "name": "stdout",
     "output_type": "stream",
     "text": [
      "[0.2, 0.15, 0.1, 0.15, 0.1, 0.3]\n",
      "The Expected Value is: 3.6999999999999997\n",
      "The Variance is : 13.7\n"
     ]
    }
   ],
   "source": [
    "# Q4.  Implement a program to simulate the rolling of a fair six-sided die and calculate the expected value and \n",
    "# variance of the outcomes.\n",
    "no_die_sided=[1,2,3,4,5,6]\n",
    "data=np.random.choice(no_die_sided,20)\n",
    "probability_of_data=[]\n",
    "for outcome in no_die_sided:\n",
    "    count=0\n",
    "    n= len(data)\n",
    "    for dat in data:\n",
    "        if outcome==dat:\n",
    "            count+=1\n",
    "    probability_of_data.append(count/n) \n",
    "print(probability_of_data)\n",
    "def finding_expected_value(no_die_sided,probability_of_data):\n",
    "        leng= len(no_die_sided)\n",
    "        sum1=0\n",
    "        for i in range(0,leng):\n",
    "            sum1 =sum1 + no_die_sided[i]*probability_of_data[i]\n",
    "        return sum1\n",
    "def finding_variance_value(no_die_sided,probability_of_data):\n",
    "        leng= len(no_die_sided)\n",
    "        sum2=0\n",
    "        sum1=0\n",
    "        for i in range(0,leng):\n",
    "            sum2 =sum2 + (no_die_sided[i]**2)*probability_of_data[i]\n",
    "            sum1 = sum1 +(no_die_sided[i])*probability_of_data[i]\n",
    "        dif= sum2-sum1\n",
    "        return dif \n",
    "    \n",
    "print(\"The Expected Value is:\",finding_expected_value(no_die_sided,probability_of_data))\n",
    "print(\"The Variance is :\",finding_variance_value(no_die_sided,probability_of_data))\n",
    "\n",
    "\n",
    "    \n"
   ]
  },
  {
   "cell_type": "code",
   "execution_count": 25,
   "id": "53b4cd46",
   "metadata": {},
   "outputs": [
    {
     "name": "stdout",
     "output_type": "stream",
     "text": [
      "The mean of sample of binomial distribution is : 5.2\n",
      "The variance of sample of binomial distribution is : 2.4000000000000004\n",
      "The mean of sample of poisson distribution is : 9.5\n",
      "The variance of sample of poisson distribution is : 10.05\n"
     ]
    }
   ],
   "source": [
    "# Q5. Create a Python function to generate random samples from a given probability distribution (e.g., \n",
    "# binomial, Poisson) and calculate their mean and variance.\n",
    "\n",
    "# for Binomial Distribution-->\n",
    "n=10 # No of trial\n",
    "p=0.5  # Probability of success\n",
    "size=1000  # size of data\n",
    "data=np.random.binomial(n,p,size)\n",
    "sample=np.random.choice(data,50)\n",
    "print(\"The mean of sample of binomial distribution is :\",np.mean(sample))\n",
    "print(\"The variance of sample of binomial distribution is :\",np.var(sample))\n",
    "\n",
    "# for Poisson Distribution\n",
    "lamda= 10\n",
    "size=1000\n",
    "data= np.random.poisson(lamda,size)\n",
    "sample = np.random.choice(data,60)\n",
    "print(\"The mean of sample of poisson distribution is :\",np.mean(sample))\n",
    "print(\"The variance of sample of poisson distribution is :\",np.var(sample))\n"
   ]
  },
  {
   "cell_type": "code",
   "execution_count": 26,
   "id": "821c5c74",
   "metadata": {},
   "outputs": [
    {
     "name": "stdout",
     "output_type": "stream",
     "text": [
      "The Mean of sample is : 0.09012138773569484\n",
      "The variance of sample is : 0.9568512983656456\n",
      "The std_deviation of sample is : 0.9781877623266637\n"
     ]
    }
   ],
   "source": [
    "# Q6.Write a Python script to generate random numbers from a Gaussian (normal) distribution and compute \n",
    "# the mean, variance, and standard deviation of the samples.\n",
    "\n",
    "def finding_m_var_std_dev_normal_dis(m,std_d,size):\n",
    "    data= np.random.normal(m,std_d,size)\n",
    "    sample= np.random.choice(data,110)\n",
    "    print(\"The Mean of sample is :\",np.mean(sample))\n",
    "    print(\"The variance of sample is :\",np.var(sample))\n",
    "    print(\"The std_deviation of sample is :\",np.std(sample))\n",
    "mean=0\n",
    "std_dev=1\n",
    "size=2000\n",
    "finding_m_var_std_dev_normal_dis(mean,std_dev,size)\n",
    "\n",
    "    "
   ]
  },
  {
   "cell_type": "code",
   "execution_count": 27,
   "id": "7502b42f",
   "metadata": {},
   "outputs": [],
   "source": [
    "# Q7. Use seaborn library to load tips dataset. Find the following from the dataset for the columns total_bill \n",
    "# and tip`:\n",
    "\n",
    "  \n",
    "\n",
    "#   (i) Write a Python function that calculates their skewness.\n",
    "\n",
    "\n",
    "#   (ii) Create a program that determines whether the columns exhibit positive skewness, negative skewness, or is \n",
    "# approximately symmetric.\n",
    "\n",
    "\n",
    "#   (iii) Write a function that calculates the covariance between two columns.\n",
    "\n",
    "\n",
    "#   (iv) Implement a Python program that calculates the Pearson correlation coefficient between two columns.\n",
    "\n",
    "\n",
    "#   (v) Write a script to visualize the correlation between two specific columns in a Pandas DataFrame using \n",
    "# scatter p"
   ]
  },
  {
   "cell_type": "code",
   "execution_count": 28,
   "id": "2ec3b401",
   "metadata": {},
   "outputs": [
    {
     "data": {
      "text/html": [
       "<div>\n",
       "<style scoped>\n",
       "    .dataframe tbody tr th:only-of-type {\n",
       "        vertical-align: middle;\n",
       "    }\n",
       "\n",
       "    .dataframe tbody tr th {\n",
       "        vertical-align: top;\n",
       "    }\n",
       "\n",
       "    .dataframe thead th {\n",
       "        text-align: right;\n",
       "    }\n",
       "</style>\n",
       "<table border=\"1\" class=\"dataframe\">\n",
       "  <thead>\n",
       "    <tr style=\"text-align: right;\">\n",
       "      <th></th>\n",
       "      <th>total_bill</th>\n",
       "      <th>tip</th>\n",
       "      <th>sex</th>\n",
       "      <th>smoker</th>\n",
       "      <th>day</th>\n",
       "      <th>time</th>\n",
       "      <th>size</th>\n",
       "    </tr>\n",
       "  </thead>\n",
       "  <tbody>\n",
       "    <tr>\n",
       "      <th>0</th>\n",
       "      <td>16.99</td>\n",
       "      <td>1.01</td>\n",
       "      <td>Female</td>\n",
       "      <td>No</td>\n",
       "      <td>Sun</td>\n",
       "      <td>Dinner</td>\n",
       "      <td>2</td>\n",
       "    </tr>\n",
       "    <tr>\n",
       "      <th>1</th>\n",
       "      <td>10.34</td>\n",
       "      <td>1.66</td>\n",
       "      <td>Male</td>\n",
       "      <td>No</td>\n",
       "      <td>Sun</td>\n",
       "      <td>Dinner</td>\n",
       "      <td>3</td>\n",
       "    </tr>\n",
       "    <tr>\n",
       "      <th>2</th>\n",
       "      <td>21.01</td>\n",
       "      <td>3.50</td>\n",
       "      <td>Male</td>\n",
       "      <td>No</td>\n",
       "      <td>Sun</td>\n",
       "      <td>Dinner</td>\n",
       "      <td>3</td>\n",
       "    </tr>\n",
       "    <tr>\n",
       "      <th>3</th>\n",
       "      <td>23.68</td>\n",
       "      <td>3.31</td>\n",
       "      <td>Male</td>\n",
       "      <td>No</td>\n",
       "      <td>Sun</td>\n",
       "      <td>Dinner</td>\n",
       "      <td>2</td>\n",
       "    </tr>\n",
       "    <tr>\n",
       "      <th>4</th>\n",
       "      <td>24.59</td>\n",
       "      <td>3.61</td>\n",
       "      <td>Female</td>\n",
       "      <td>No</td>\n",
       "      <td>Sun</td>\n",
       "      <td>Dinner</td>\n",
       "      <td>4</td>\n",
       "    </tr>\n",
       "    <tr>\n",
       "      <th>...</th>\n",
       "      <td>...</td>\n",
       "      <td>...</td>\n",
       "      <td>...</td>\n",
       "      <td>...</td>\n",
       "      <td>...</td>\n",
       "      <td>...</td>\n",
       "      <td>...</td>\n",
       "    </tr>\n",
       "    <tr>\n",
       "      <th>239</th>\n",
       "      <td>29.03</td>\n",
       "      <td>5.92</td>\n",
       "      <td>Male</td>\n",
       "      <td>No</td>\n",
       "      <td>Sat</td>\n",
       "      <td>Dinner</td>\n",
       "      <td>3</td>\n",
       "    </tr>\n",
       "    <tr>\n",
       "      <th>240</th>\n",
       "      <td>27.18</td>\n",
       "      <td>2.00</td>\n",
       "      <td>Female</td>\n",
       "      <td>Yes</td>\n",
       "      <td>Sat</td>\n",
       "      <td>Dinner</td>\n",
       "      <td>2</td>\n",
       "    </tr>\n",
       "    <tr>\n",
       "      <th>241</th>\n",
       "      <td>22.67</td>\n",
       "      <td>2.00</td>\n",
       "      <td>Male</td>\n",
       "      <td>Yes</td>\n",
       "      <td>Sat</td>\n",
       "      <td>Dinner</td>\n",
       "      <td>2</td>\n",
       "    </tr>\n",
       "    <tr>\n",
       "      <th>242</th>\n",
       "      <td>17.82</td>\n",
       "      <td>1.75</td>\n",
       "      <td>Male</td>\n",
       "      <td>No</td>\n",
       "      <td>Sat</td>\n",
       "      <td>Dinner</td>\n",
       "      <td>2</td>\n",
       "    </tr>\n",
       "    <tr>\n",
       "      <th>243</th>\n",
       "      <td>18.78</td>\n",
       "      <td>3.00</td>\n",
       "      <td>Female</td>\n",
       "      <td>No</td>\n",
       "      <td>Thur</td>\n",
       "      <td>Dinner</td>\n",
       "      <td>2</td>\n",
       "    </tr>\n",
       "  </tbody>\n",
       "</table>\n",
       "<p>244 rows × 7 columns</p>\n",
       "</div>"
      ],
      "text/plain": [
       "     total_bill   tip     sex smoker   day    time  size\n",
       "0         16.99  1.01  Female     No   Sun  Dinner     2\n",
       "1         10.34  1.66    Male     No   Sun  Dinner     3\n",
       "2         21.01  3.50    Male     No   Sun  Dinner     3\n",
       "3         23.68  3.31    Male     No   Sun  Dinner     2\n",
       "4         24.59  3.61  Female     No   Sun  Dinner     4\n",
       "..          ...   ...     ...    ...   ...     ...   ...\n",
       "239       29.03  5.92    Male     No   Sat  Dinner     3\n",
       "240       27.18  2.00  Female    Yes   Sat  Dinner     2\n",
       "241       22.67  2.00    Male    Yes   Sat  Dinner     2\n",
       "242       17.82  1.75    Male     No   Sat  Dinner     2\n",
       "243       18.78  3.00  Female     No  Thur  Dinner     2\n",
       "\n",
       "[244 rows x 7 columns]"
      ]
     },
     "execution_count": 28,
     "metadata": {},
     "output_type": "execute_result"
    }
   ],
   "source": [
    "df=sns.load_dataset('tips')\n",
    "df"
   ]
  },
  {
   "cell_type": "code",
   "execution_count": 29,
   "id": "aaa9e724",
   "metadata": {},
   "outputs": [
    {
     "name": "stdout",
     "output_type": "stream",
     "text": [
      "1.1262346334818638\n",
      "1.4564266884221506\n",
      "Both the columns are highly skewed\n"
     ]
    }
   ],
   "source": [
    "#   (i) Write a Python function that calculates their skewness.\n",
    "\n",
    "sk=stats.skew(df['total_bill'])\n",
    "print(sk)\n",
    "sk=stats.skew(df['tip'])\n",
    "print(sk)\n",
    "print(\"Both the columns are highly skewed\")"
   ]
  },
  {
   "cell_type": "code",
   "execution_count": 30,
   "id": "d7640f03",
   "metadata": {},
   "outputs": [
    {
     "name": "stdout",
     "output_type": "stream",
     "text": [
      "Highly positive skewness\n",
      "Highly positive skewness\n"
     ]
    }
   ],
   "source": [
    "#   (ii) Create a program that determines whether the columns exhibit positive skewness, negative skewness, or is \n",
    "# approximately symmetric.\n",
    "def determin_skew_nature(data):\n",
    "    sk=stats.skew(data)\n",
    "    if(sk <= 0.5 and sk >= -0.5):\n",
    "        print(\"Distribution is almost symmetric\")\n",
    "    elif(sk<-0.5):\n",
    "        print(\"Negative skewness\")\n",
    "    else:\n",
    "        print(\"Highly positive skewness\")\n",
    "determin_skew_nature(df['total_bill'])\n",
    "determin_skew_nature(df['tip'])\n",
    "        \n",
    "\n",
    "        \n",
    "    "
   ]
  },
  {
   "cell_type": "code",
   "execution_count": 31,
   "id": "88f6d755",
   "metadata": {},
   "outputs": [
    {
     "data": {
      "text/html": [
       "<div>\n",
       "<style scoped>\n",
       "    .dataframe tbody tr th:only-of-type {\n",
       "        vertical-align: middle;\n",
       "    }\n",
       "\n",
       "    .dataframe tbody tr th {\n",
       "        vertical-align: top;\n",
       "    }\n",
       "\n",
       "    .dataframe thead th {\n",
       "        text-align: right;\n",
       "    }\n",
       "</style>\n",
       "<table border=\"1\" class=\"dataframe\">\n",
       "  <thead>\n",
       "    <tr style=\"text-align: right;\">\n",
       "      <th></th>\n",
       "      <th>total_bill</th>\n",
       "      <th>tip</th>\n",
       "    </tr>\n",
       "  </thead>\n",
       "  <tbody>\n",
       "    <tr>\n",
       "      <th>total_bill</th>\n",
       "      <td>79.252939</td>\n",
       "      <td>8.323502</td>\n",
       "    </tr>\n",
       "    <tr>\n",
       "      <th>tip</th>\n",
       "      <td>8.323502</td>\n",
       "      <td>1.914455</td>\n",
       "    </tr>\n",
       "  </tbody>\n",
       "</table>\n",
       "</div>"
      ],
      "text/plain": [
       "            total_bill       tip\n",
       "total_bill   79.252939  8.323502\n",
       "tip           8.323502  1.914455"
      ]
     },
     "execution_count": 31,
     "metadata": {},
     "output_type": "execute_result"
    }
   ],
   "source": [
    "#   (iii) Write a function that calculates the covariance between two columns.\n",
    "data=df[['total_bill','tip']]\n",
    "data.cov()"
   ]
  },
  {
   "cell_type": "code",
   "execution_count": 32,
   "id": "b3e2763d",
   "metadata": {},
   "outputs": [
    {
     "data": {
      "text/html": [
       "<div>\n",
       "<style scoped>\n",
       "    .dataframe tbody tr th:only-of-type {\n",
       "        vertical-align: middle;\n",
       "    }\n",
       "\n",
       "    .dataframe tbody tr th {\n",
       "        vertical-align: top;\n",
       "    }\n",
       "\n",
       "    .dataframe thead th {\n",
       "        text-align: right;\n",
       "    }\n",
       "</style>\n",
       "<table border=\"1\" class=\"dataframe\">\n",
       "  <thead>\n",
       "    <tr style=\"text-align: right;\">\n",
       "      <th></th>\n",
       "      <th>total_bill</th>\n",
       "      <th>tip</th>\n",
       "    </tr>\n",
       "  </thead>\n",
       "  <tbody>\n",
       "    <tr>\n",
       "      <th>total_bill</th>\n",
       "      <td>1.000000</td>\n",
       "      <td>0.675734</td>\n",
       "    </tr>\n",
       "    <tr>\n",
       "      <th>tip</th>\n",
       "      <td>0.675734</td>\n",
       "      <td>1.000000</td>\n",
       "    </tr>\n",
       "  </tbody>\n",
       "</table>\n",
       "</div>"
      ],
      "text/plain": [
       "            total_bill       tip\n",
       "total_bill    1.000000  0.675734\n",
       "tip           0.675734  1.000000"
      ]
     },
     "execution_count": 32,
     "metadata": {},
     "output_type": "execute_result"
    }
   ],
   "source": [
    "#   (iv) Implement a Python program that calculates the Pearson correlation coefficient between two columns.\n",
    "data.corr()"
   ]
  },
  {
   "cell_type": "code",
   "execution_count": 33,
   "id": "6e957fda",
   "metadata": {},
   "outputs": [
    {
     "data": {
      "text/plain": [
       "<Axes: xlabel='total_bill', ylabel='tip'>"
      ]
     },
     "execution_count": 33,
     "metadata": {},
     "output_type": "execute_result"
    },
    {
     "data": {
      "image/png": "[encoded data removed]",
      "text/plain": [
       "<Figure size 640x480 with 1 Axes>"
      ]
     },
     "metadata": {},
     "output_type": "display_data"
    }
   ],
   "source": [
    "#   (v) Write a script to visualize the correlation between two specific columns in a Pandas DataFrame using \n",
    "# scatter p.\n",
    "sns.scatterplot(x=data.total_bill,y=data.tip,data=data)"
   ]
  },
  {
   "cell_type": "code",
   "execution_count": 34,
   "id": "30850823",
   "metadata": {},
   "outputs": [
    {
     "data": {
      "image/png": "[encoded data removed]",
      "text/plain": [
       "<Figure size 640x480 with 1 Axes>"
      ]
     },
     "metadata": {},
     "output_type": "display_data"
    }
   ],
   "source": [
    "# Q8. Write a Python function to calculate the probability density function (PDF) of a continuous random \n",
    "# variable for a given normal distribution.\n",
    "data= np.random.normal(0,1,1000)\n",
    "plt.hist(data,bins=20, edgecolor='b',color='grey',density=True)\n",
    "mean=np.mean(data)\n",
    "std_dev= np.std(data)\n",
    "xmin,xmax=plt.xlim()\n",
    "x=np.linspace(xmin,xmax,100)\n",
    "p=stats.norm.pdf(x,mean,std_dev)\n",
    "plt.plot(x,p,'k',linewidth=1.2)\n",
    "plt.title('Normal distribution')\n",
    "plt.xlabel('Values')\n",
    "plt.ylabel('Density')\n",
    "plt.show()"
   ]
  },
  {
   "cell_type": "code",
   "execution_count": 35,
   "id": "7f2aff16",
   "metadata": {},
   "outputs": [
    {
     "data": {
      "image/png": "[encoded data removed]",
      "text/plain": [
       "<Figure size 640x480 with 1 Axes>"
      ]
     },
     "metadata": {},
     "output_type": "display_data"
    }
   ],
   "source": [
    "# Q9.Create a program to calculate the cumulative distribution function (CDF) of exponential distribution.\n",
    "scale=5\n",
    "size=1000\n",
    "data= np.random.exponential(scale,size)\n",
    "x = np.linspace(0, np.max(data), 100)\n",
    "cdf = stats.expon.cdf(x, scale=scale)\n",
    "plt.plot(x,cdf)\n",
    "plt.xlabel('Values')\n",
    "plt.ylabel('CDF')\n",
    "plt.show()"
   ]
  },
  {
   "cell_type": "code",
   "execution_count": 36,
   "id": "f9e55275",
   "metadata": {},
   "outputs": [
    {
     "data": {
      "text/plain": [
       "<StemContainer object of 3 artists>"
      ]
     },
     "execution_count": 36,
     "metadata": {},
     "output_type": "execute_result"
    },
    {
     "data": {
      "image/png": "[encoded data removed]",
      "text/plain": [
       "<Figure size 640x480 with 1 Axes>"
      ]
     },
     "metadata": {},
     "output_type": "display_data"
    }
   ],
   "source": [
    "# Q10. Write a Python function to calculate the probability mass function (PMF) of Poisson distribution.\n",
    "lamda=10\n",
    "size=1000\n",
    "data=np.random.poisson(lamda,size)\n",
    "    # Calculate the PMF values\n",
    "x = np.arange(0, np.max(data) + 1)\n",
    "pmf = stats.poisson.pmf(x, lamda)\n",
    "    \n",
    "    # Plot the PMF\n",
    "plt.stem(x, pmf)"
   ]
  },
  {
   "cell_type": "code",
   "execution_count": 50,
   "id": "b148f14a",
   "metadata": {},
   "outputs": [
    {
     "name": "stdout",
     "output_type": "stream",
     "text": [
      "The value of Z statistics is : -1.883108942886774\n",
      "The value of p value is : 0.05968560553242621\n",
      "Fail to reject the null_hypothesis\n"
     ]
    }
   ],
   "source": [
    "# Q11. A company wants to test if a new website layout leads to a higher conversion rate (percentage of visitors \n",
    "# who make a purchase). They collect data from the old and new layouts to compare.\n",
    "import numpy as np\n",
    "from statsmodels.stats.proportion import proportions_ztest\n",
    "null_hypothesis =\"The new website layout does not lead to a higher conversion rate compared to the old layout.\"\n",
    "alternate_hypothesis =\"The new website layout leads to a higher conversion rate compared to the old layout.\"\n",
    "old_layout = np.array([1] * 50 + [0] * 950)\n",
    "new_layout = np.array([1] * 70 + [0] * 930)\n",
    "conv_old= np.sum(old_layout)\n",
    "con_old = np.sum(new_layout)\n",
    "no_old_layout= len(old_layout)\n",
    "no_new_layout= len(new_layout)\n",
    "z_statistics,p_value= proportions_ztest([conv_old,conv_new],[no_old_layout,no_new_layout])\n",
    "print(\"The value of Z statistics is :\",z_statistics)\n",
    "print(\"The value of p value is :\",p_value)\n",
    "alpha=0.05\n",
    "if p_value<alpha :\n",
    "    print(\"Reject the null_hypothesis\")\n",
    "else:\n",
    "    print(\"Fail to reject the null_hypothesis\")"
   ]
  },
  {
   "cell_type": "code",
   "execution_count": 52,
   "id": "9e6afcab",
   "metadata": {},
   "outputs": [
    {
     "name": "stdout",
     "output_type": "stream",
     "text": [
      "The value of Zscore is : -1.3600371723457605\n",
      "The value of p_value is : 0.9130909194908616\n",
      "fail to reject the null hypothesis\n"
     ]
    }
   ],
   "source": [
    "# Q12 A tutoring service claims that its program improves students' exam scores. A sample of students who \n",
    "# participated in the program was taken, and their scores beNore and aNter the program were recorded.\n",
    "# Use z-test to find if the claims made by tutor are true or false.\n",
    "before_program = np.array([75, 80, 85, 70, 90, 78, 92, 88, 82, 87])\n",
    "after_program = np.array([80, 85, 90, 80, 92, 80, 95, 90, 85, 88])\n",
    "from statsmodels.stats.weightstats import ztest\n",
    "\n",
    "null_hypothesis= \" the mean exam scores before and after the program are the same .\"\n",
    "alternate_hypothesis = \"the mean exam score after the program is higher than the mean exam score before the program.\"\n",
    "\n",
    "zscore,p_value=ztest(before_program,after_program,alternative='larger')\n",
    "print(\"The value of Zscore is :\",zscore)\n",
    "print(\"The value of p_value is :\",p_value)\n",
    "alpha = 0.05\n",
    "if p_value >alpha :\n",
    "    print(\"fail to reject the null hypothesis\")\n",
    "else:\n",
    "    print(\"Reject null hypothesis\")"
   ]
  },
  {
   "cell_type": "code",
   "execution_count": 53,
   "id": "34169547",
   "metadata": {},
   "outputs": [
    {
     "name": "stdout",
     "output_type": "stream",
     "text": [
      "Z-statistic: -10.0499\n",
      "P-value: 0.0000\n",
      "Reject the null hypothesis: The drug is effective in reducing blood pressure.\n"
     ]
    }
   ],
   "source": [
    "# Q13. A pharmaceutical company wants to determine if a new drug is effective in reducing blood pressure. They \n",
    "# conduct a study and record blood pressure measurements before and after administering the drug.\n",
    "before_drug = np.array([145, 150, 140, 135, 155, 160, 152, 148, 130, 138])\n",
    "after_drug = np.array([130, 140, 132, 128, 145, 148, 138, 136, 125, 130])\n",
    "import numpy as np\n",
    "from scipy import stats\n",
    "differences = after_drug - before_drug\n",
    "Z_statistic = differences.mean() / (differences.std(ddof=1) / np.sqrt(len(differences)))\n",
    "p_value = 2 * (1 - stats.norm.cdf(np.abs(Z_statistic)))  # two-tailed test\n",
    "\n",
    "print(f\"Z-statistic: {Z_statistic:.4f}\")\n",
    "print(f\"P-value: {p_value:.4f}\")\n",
    "\n",
    "\n",
    "alpha = 0.05\n",
    "if p_value < alpha:\n",
    "    print(\"Reject the null hypothesis: The drug is effective in reducing blood pressure.\")\n",
    "else:\n",
    "    print(\"Fail to reject the null hypothesis: There is no significant evidence that the drug reduces blood pressure.\")\n",
    "\n",
    "\n",
    "\n",
    "\n"
   ]
  },
  {
   "cell_type": "code",
   "execution_count": 54,
   "id": "c19def9f",
   "metadata": {},
   "outputs": [
    {
     "name": "stdout",
     "output_type": "stream",
     "text": [
      "Z-statistic: -3.1845\n",
      "P-value: 0.0007\n",
      "\n",
      "Reject the null hypothesis: The average response time is less than 5 minutes.\n"
     ]
    }
   ],
   "source": [
    "# Q14. A customer service department claims that their average response time is less than 5 minutes. A sample \n",
    "# of recent customer interactions was taken, and the response times were recorded.\n",
    "\n",
    "response_times = np.array([4.3, 3.8, 5.1, 4.9, 4.7, 4.2, 5.2, 4.5, 4.6, 4.4])\n",
    "import numpy as np\n",
    "from scipy import stats\n",
    "\n",
    "sample_mean = np.mean(response_times)\n",
    "sample_std = np.std(response_times, ddof=1)  \n",
    "\n",
    "population_mean = 5 \n",
    "\n",
    "\n",
    "Z_statistic = (sample_mean - population_mean) / (sample_std / np.sqrt(len(response_times)))\n",
    "\n",
    "\n",
    "p_value = stats.norm.cdf(Z_statistic)\n",
    "\n",
    "print(f\"Z-statistic: {Z_statistic:.4f}\")\n",
    "print(f\"P-value: {p_value:.4f}\")\n",
    "alpha = 0.05\n",
    "if p_value < alpha:\n",
    "    print(\"\\nReject the null hypothesis: The average response time is less than 5 minutes.\")\n",
    "else:\n",
    "    print(\"\\nFail to reject the null hypothesis: There is no significant evidence that the average response time is less than 5 minutes.\")\n"
   ]
  },
  {
   "cell_type": "code",
   "execution_count": 40,
   "id": "019e3907",
   "metadata": {},
   "outputs": [
    {
     "name": "stdout",
     "output_type": "stream",
     "text": [
      "Reject the null_hypothesis\n",
      "T-statistics value is : -7.298102156175071\n",
      "The Degree of freedom value is : 18\n",
      "P_value of this analysis is: 8.833437608301987e-07\n"
     ]
    }
   ],
   "source": [
    "#Q15.  A company is testing two different website layouts to see which one leads to higher click-through ratesV \n",
    "# Write a Python function to perform an A/B test analysis, including calculating the t-statistic, degrees of \n",
    "# freedom, and p-value.\n",
    "layout_a_clicks = [28, 32, 33, 29, 31, 34, 30, 35, 36, 37]\n",
    "layout_b_clicks = [40, 41, 38, 42, 39, 44, 43, 41, 45, 47]\n",
    "def AB_test_analysis(layout_a_clicks,layout_b_clicks):\n",
    "    mean_A=sum(layout_a_clicks)/len(layout_a_clicks)\n",
    "    mean_B=sum(layout_b_clicks)/len(layout_b_clicks)\n",
    "    null_hypothesis=\"The mean click-through rate for website layout A is equal to the mean click-through rate for website layout B.(mean_A=mean_B)\"\n",
    "    alternate_hypothesis= \"The mean click-through rate for website layout A is not equal to the mean click-through rate for website layout B.(mean_A != mean_B)\"\n",
    "    t_statistics,p_value= stats.ttest_ind(layout_a_clicks,layout_b_clicks)\n",
    "    n1 = len(layout_a_clicks)\n",
    "    n2 = len(layout_b_clicks)\n",
    "    degree_of_freedom = n1+n2-2\n",
    "    alpha=0.05\n",
    "    \n",
    "    if p_value > alpha:\n",
    "        print(\"Fail to reject Null_hypothesis\")\n",
    "    else:\n",
    "        print(\"Reject the null_hypothesis\")\n",
    "        \n",
    "        \n",
    "    print(\"T-statistics value is :\",t_statistics)\n",
    "    print(\"The Degree of freedom value is :\",degree_of_freedom)\n",
    "    print(\"P_value of this analysis is:\",p_value)\n",
    "AB_test_analysis(layout_a_clicks,layout_b_clicks)"
   ]
  },
  {
   "cell_type": "code",
   "execution_count": 41,
   "id": "8078c031",
   "metadata": {},
   "outputs": [
    {
     "name": "stdout",
     "output_type": "stream",
     "text": [
      "Reject the null_hypothesis\n",
      "The value of t_statistics is : 4.14048098620866\n",
      "The value of P_value is : 0.0006143398442372505\n"
     ]
    }
   ],
   "source": [
    "# Q16. A pharmaceutical company wants to deterine if a new drug is more effective than an existing drug in \n",
    "# reducing cholesterol levels. Create a program to analyze the clinical trial data and calculate the t_statistic and p-value for the treatment effect.\n",
    "existing_drug_levels = [180, 182, 175, 185, 178, 176, 172, 184, 179, 183]\n",
    "new_drug_levels = [170, 172, 165, 168, 175, 173, 170, 178, 172, 176]\n",
    "def analysis_clinical_trial(existing_drug_levels,new_drug_levels):\n",
    "    mean_exist= sum(existing_drug_levels)/len(existing_drug_levels)\n",
    "    mean_new = sum(new_drug_levels)/len(new_drug_levels)\n",
    "    null_hypothesis=\"The mean reduction in cholesterol levels with the new drug is equal to the mean reduction in cholesterol levels with the existing drug.(mean_exist= mean_new)\"\n",
    "    alternate_hypothesis=\"The mean reduction in cholesterol levels with the new drug is different from the mean reduction in cholesterol levels with the existing drug.(mean_exist != mean_new)\"\n",
    "    t_statistics,p_value=stats.ttest_ind(existing_drug_levels,new_drug_levels)\n",
    "    n1= len(existing_drug_levels)\n",
    "    n2=len(new_drug_levels)\n",
    "    degree_of_freedom= n1+n2-2\n",
    "    alpha= 0.05\n",
    "    if p_value > alpha:\n",
    "        print(\"fail to Reject the null_hypothesis\")\n",
    "    else:\n",
    "        print(\"Reject the null_hypothesis\")\n",
    "    print(\"The value of t_statistics is :\",t_statistics)\n",
    "    print(\"The value of P_value is :\",p_value)\n",
    "analysis_clinical_trial(existing_drug_levels,new_drug_levels)    "
   ]
  },
  {
   "cell_type": "code",
   "execution_count": 42,
   "id": "156f875d",
   "metadata": {},
   "outputs": [
    {
     "name": "stdout",
     "output_type": "stream",
     "text": [
      "Reject the null_hypothesis\n",
      "The value of t_statistics is : -4.080355128162116\n",
      "The value of P_value is : 0.0007022570725706455\n"
     ]
    }
   ],
   "source": [
    "# Q17.A school district introduces an educational intervention program to improve math scores. Write a Python \n",
    "# function to analyze pre- and post-intervention test scores, calculating the t-statistic and p-value to \n",
    "# determine if the intervention had a significant impact.\n",
    "pre_intervention_scores = [80, 85, 90, 75, 88, 82, 92, 78, 85, 87]\n",
    "post_intervention_scores = [90, 92, 88, 92, 95, 91, 96, 93, 89, 93]\n",
    "\n",
    "def analysis_pre_post_intervention(pre_intervention_scores,post_intervention_scores):\n",
    "    mean_pre= sum(pre_intervention_scores)/len(pre_intervention_scores)\n",
    "    mean_post = sum(post_intervention_scores)/len(post_intervention_scores)\n",
    "    \n",
    "    null_hypothesis=\"The mean math scores before the intervention are equal to the mean math scores after the intervention.(mean_pre = mean_post)\"\n",
    "    alternate_hypothesis = \"The mean math scores before the intervention are not equal to the mean math scores after the intervention.(mean_pre != mean_post)\"\n",
    "    t_statistics, p_value = stats.ttest_ind(pre_intervention_scores,post_intervention_scores)\n",
    "    \n",
    "    \n",
    "    n1=len(pre_intervention_scores)\n",
    "    n2= len(post_intervention_scores)\n",
    "    degree_of_freedom= n1+n2-2\n",
    "    alpha=0.05\n",
    "    \n",
    "    \n",
    "    if p_value >alpha :\n",
    "        print(\"Fail to reject null_hypothesis\")\n",
    "    else:\n",
    "        print(\"Reject the null_hypothesis\")\n",
    "    \n",
    "    \n",
    "    print(\"The value of t_statistics is :\",t_statistics)\n",
    "    print(\"The value of P_value is :\",p_value)\n",
    "analysis_pre_post_intervention(pre_intervention_scores,post_intervention_scores)\n"
   ]
  },
  {
   "cell_type": "code",
   "execution_count": 43,
   "id": "374115de",
   "metadata": {},
   "outputs": [
    {
     "name": "stdout",
     "output_type": "stream",
     "text": [
      "Fail to reject null_hypothesis\n",
      "The t_statistics value is : 0.06114208969631383\n",
      "The value of p_value is : 0.9515665020676465\n"
     ]
    }
   ],
   "source": [
    "# Q18. An HR department wants to investigate if there's a gender-based salary gap within the company. Develop \n",
    "# a program to analyze salary data, calculate the t-statistic, and determine if there's a statistically \n",
    "# significant difference between the average salaries of male and female employees.\n",
    "# Generate synthetic salary data for male and female employees\n",
    "\n",
    "np.random.seed(0)\n",
    "male_salaries = np.random.normal(loc=50000, scale=10000, size=20)\n",
    "female_salaries = np.random.normal(loc=55000, scale=9000, size=20)\n",
    "def analysis_salary_data(male_salaries,female_salaries):\n",
    "    mean_male_sal= sum(male_salaries)/len(male_salaries)\n",
    "    mean_female_sal = sum(female_salaries)/len(female_salaries)\n",
    "    null_hypothesis=\"The mean salary of male employees is equal to the mean salary of female employees.\"\n",
    "    alternate_hypothesis = \"The mean salary of male employees is not equal to the mean salary of female employees.\"\n",
    "    t_statistics,p_value = stats.ttest_ind(male_salaries,female_salaries)\n",
    "    alpha=0.05\n",
    "    \n",
    "    \n",
    "    if p_value >alpha :\n",
    "        print(\"Fail to reject null_hypothesis\")\n",
    "    else:\n",
    "        print(\"Reject the null_hypothesis\")\n",
    "    print(\"The t_statistics value is :\",t_statistics)\n",
    "    print(\"The value of p_value is :\",p_value)\n",
    "analysis_salary_data(male_salaries,female_salaries)    \n",
    "    \n",
    "    "
   ]
  },
  {
   "cell_type": "code",
   "execution_count": 44,
   "id": "946afb5e",
   "metadata": {},
   "outputs": [
    {
     "name": "stdout",
     "output_type": "stream",
     "text": [
      "Reject the null_hypothesis\n",
      "The t_statistics value is : 11.325830417646698\n",
      "The value of p_value is : 3.6824250702873965e-15\n"
     ]
    }
   ],
   "source": [
    "# Q19. A manufacturer produces two different versions of a product and wants to compare their quality scores. \n",
    "# Create a Python function to analyze quality assessment data, calculate the t-statistic, and decide \n",
    "# whether there's a significant difference in quality between the two versions.\n",
    "version1_scores = [85, 88, 82, 89, 87, 84, 90, 88, 85, 86, 91, 83, 87, 84, 89, 86, 84, 88, 85, 86, 89, 90, 87, 88, 85]\n",
    "version2_scores = [80, 78, 83, 81, 79, 82, 76, 80, 78, 81, 77, 82, 80, 79, 82, 79, 80, 81, 79, 82, 79, 78, 80, 81, 82]\n",
    "def analysis_quality_assessment(version1_scores,version2_scores):\n",
    "    mean_vers1_score= sum(version1_scores)/len(version1_scores)\n",
    "    mean_vers2_score = sum(version2_scores)/len(version2_scores)\n",
    "    null_hypothesis = \"The mean quality score of version 1 is equal to the mean quality score of version 2.(mean_vers1_score = mean_vers2_score)\"\n",
    "    alternate_hypothesis = \"The mean quality score of version 1 is not equal to the mean quality score of version 2.(mean_vers1_score != mean_vers2_score)\"\n",
    "    t_statistics,p_value = stats.ttest_ind(version1_scores,version2_scores)\n",
    "    alpha = 0.05\n",
    "    if p_value > alpha:\n",
    "        print(\"Fail to reject null_hypothesis\")\n",
    "    else:\n",
    "        print(\"Reject the null_hypothesis\")\n",
    "    print(\"The t_statistics value is :\",t_statistics)\n",
    "    print(\"The value of p_value is :\",p_value)\n",
    "analysis_quality_assessment(version1_scores,version2_scores)    "
   ]
  },
  {
   "cell_type": "code",
   "execution_count": 45,
   "id": "cf28275b",
   "metadata": {},
   "outputs": [
    {
     "name": "stdout",
     "output_type": "stream",
     "text": [
      "Reject null hypothesis.\n",
      "The t_statistics value is : 5.480077554195743\n",
      "The value of p_value is : 8.895290509945657e-07\n"
     ]
    }
   ],
   "source": [
    "# Q20. A restaurant chain collects customer satisfaction scores for two different branches. Write a program to \n",
    "# analyze the scores, calculate the t-statistic, and determine if there's a statistically significant difference in \n",
    "# customer satisfaction between the branches.\n",
    "branch_a_scores = [4, 5, 3, 4, 5, 4, 5, 3, 4, 4, 5, 4, 4, 3, 4, 5, 5, 4, 3, 4, 5, 4, 3, 5, 4, 4, 5, 3, 4, 5, 4]\n",
    "branch_b_scores = [3, 4, 2, 3, 4, 3, 4, 2, 3, 3, 4, 3, 3, 2, 3, 4, 4, 3, 2, 3, 4, 3, 2, 4, 3, 3, 4, 2, 3, 4, 3]\n",
    "def analysis_satis_score(branch_a_scores,branch_b_scores):\n",
    "    mean_branch_a= sum(branch_a_scores)/len(branch_a_scores)\n",
    "    mean_branch_b= sum(branch_b_scores)/len(branch_b_scores)\n",
    "    null_hypothesis = \"The mean customer satisfaction score for branch 1 is equal to the mean customer satisfaction score for branch 2.(mean_branch_a = mean_branch_b)\"\n",
    "    alternate_hypothesis = \"The mean customer satisfaction score for branch 1 is not  equal to the mean customer satisfaction score for branch 2.(mean_branch_a != mean_branch_b)\"\n",
    "    t_statistics,p_value = stats.ttest_ind(branch_a_scores,branch_b_scores)\n",
    "    alpha = 0.05\n",
    "    if p_value >alpha :\n",
    "        print(\"fail to reject the null hypothesis\")\n",
    "    else:\n",
    "        print(\"Reject null hypothesis.\")\n",
    "    print(\"The t_statistics value is :\",t_statistics)\n",
    "    print(\"The value of p_value is :\",p_value)    \n",
    "analysis_satis_score(branch_a_scores,branch_b_scores)  \n",
    "        "
   ]
  },
  {
   "cell_type": "code",
   "execution_count": 46,
   "id": "2c8fba82",
   "metadata": {},
   "outputs": [
    {
     "name": "stdout",
     "output_type": "stream",
     "text": [
      "Chi-Square Statistic (manual): 1.4401669758812612\n",
      "p-value: 0.48671161971286614\n",
      "Degrees of Freedom: 2\n",
      "Fail to reject null hypothesis\n"
     ]
    }
   ],
   "source": [
    "# Q21.A political analyst wants to determine if there is a significant association between age groups and voter \n",
    "# preferences (Candidate A or Candidate B). They collect data from a sample of 500 voters and classify \n",
    "# them into different age groups and candidate preferences. Perform a Chi-Square test to determine if\n",
    "# there is a significant association between age groups and voter preferences.\n",
    "np.random.seed(0)\n",
    "age_groups = np.random.choice(['18-30', '31-50', '51+'], size=30)\n",
    "voter_preferences = np.random.choice(['Candidate A', 'Candidate B'], size=30)\n",
    "df = pd.DataFrame({'Age_groups': age_groups, 'Voter_preferences': voter_preferences})\n",
    "table = pd.crosstab(df['Age_groups'], df['Voter_preferences'])\n",
    "\n",
    "observed_values = table.values\n",
    "stat_test, p_value, deg_free, expected_val = stats.chi2_contingency(observed_values)\n",
    "\n",
    "chisquare_test = sum(((o - e) ** 2) / e for o, e in zip(observed_values.flatten(), expected_val.flatten()))\n",
    "print(\"Chi-Square Statistic (manual):\", chisquare_test)\n",
    "print(\"p-value:\", p_value)\n",
    "print(\"Degrees of Freedom:\", deg_free)\n",
    "\n",
    "\n",
    "\n",
    "null_hypothesis = \"age group and voter preference are independent.\"\n",
    "alternate_hypothesis = \"age group and voter preference are not independent.\"\n",
    "alpha = 0.05\n",
    "\n",
    "if p_value < alpha:\n",
    "    print(\"Reject the null hypothesis\")\n",
    "else:\n",
    "    print(\"Fail to reject null hypothesis\")\n"
   ]
  },
  {
   "cell_type": "code",
   "execution_count": 47,
   "id": "d53980a1",
   "metadata": {},
   "outputs": [
    {
     "name": "stdout",
     "output_type": "stream",
     "text": [
      "The Value Chisquare stats (scipy) : 27.777056277056275\n",
      "The Value Chisquare stats (manually) : 27.777056277056275\n",
      "The value of p_value : 0.00010349448486004387\n",
      "The degree of freedom is : 6\n",
      "Reject the null hypothesis\n"
     ]
    }
   ],
   "source": [
    "# Q22. A company conducted a customer satisfaction survey to determine if there is a significant relationship \n",
    "# between product satisfaction levels (Satisfied, Neutral, Dissatisfied) and the region where customers are \n",
    "# located (East, West, North, South). The survey data is summarized in a contingency table. Conduct a Chi-Square test to determine if there is a significant relationship between product satisfaction levels and \n",
    "# customer regions.\n",
    "#Sample data: Product satisfaction levels (rows) vs. Customer regions (columns)\n",
    "\n",
    "from scipy.stats import chi2_contingency\n",
    "\n",
    "data = np.array([[50, 30, 40, 20], [30, 40, 30, 50], [20, 30, 40, 30]])\n",
    "product_satisfaction_level=['Satisfied','Neutral','Dissatisfied']\n",
    "customer_regions=['East','West','North','South']\n",
    "df=pd.DataFrame(data,index=product_satisfaction_level,columns=customer_regions)\n",
    "\n",
    "\n",
    "observed_values=df.values\n",
    "stats_test,p_value,degree_freedom,expected_valu=chi2_contingency(observed_values)\n",
    "\n",
    "chisquare_test = sum(((o - e) ** 2) / e for o, e in zip(observed_values.flatten(), expected_valu.flatten()))\n",
    "\n",
    "print(\"The Value Chisquare stats (scipy) :\",stats_test)\n",
    "print(\"The Value Chisquare stats (manually) :\",chisquare_test)\n",
    "print(\"The value of p_value :\",p_value)\n",
    "print(\"The degree of freedom is :\",degree_freedom)\n",
    "\n",
    "null_hypothesis= \"product satisfaction levels are independent of customer regions.\"\n",
    "alternate_hypothesis=\"product satisfaction levels are not independent of customer regions.\"\n",
    "\n",
    "\n",
    "alpha = 0.05\n",
    "if p_value < alpha:\n",
    "    print(\"Reject the null hypothesis\")\n",
    "else:\n",
    "    print(\"Fail to reject null hypothesis\")\n"
   ]
  },
  {
   "cell_type": "code",
   "execution_count": 48,
   "id": "3853f9c8",
   "metadata": {},
   "outputs": [
    {
     "name": "stdout",
     "output_type": "stream",
     "text": [
      "The Value of chisquare value (scipy): 22.161728395061726\n",
      "The value of chisquare value (manually): 22.16172839506173\n",
      "The value of P-value is : 0.00018609719479882554\n",
      "The degree of freedom : 4\n",
      "Reject the null hypothesis\n"
     ]
    }
   ],
   "source": [
    "# Q23. A company implemented an employee training program to improve job performance (Effective, Neutral, \n",
    "# Ineffective). After the training, they collected data from a sample of employees and classified them based \n",
    "# on their job performance before and after the training. Perform a Chi-Square test to determine if there is a \n",
    "# significant difference between job performance levels before and after the training.\n",
    "\n",
    "from scipy.stats import chi2_contingency\n",
    "\n",
    "data = np.array([[50, 30, 20], [30, 40, 30], [20, 30, 40]])\n",
    "job_performances_before=['Effective_B','Neutral_B','Ineffective_A']\n",
    "job_performances_after=['Effective_A','Neutral_A','Ineffective_A']\n",
    "df= pd.DataFrame(data,index=job_performances_before,columns=job_performances_after)\n",
    "\n",
    "observed_values= df.values\n",
    "stats_test,p_value,degree_freedom,expected_value=chi2_contingency(observed_values)\n",
    "\n",
    "chisquare_test = sum(((o - e) ** 2) / e for o, e in zip(observed_values.flatten(), expected_value.flatten()))\n",
    "print(\"The Value of chisquare value (scipy):\",stats_test)\n",
    "print(\"The value of chisquare value (manually):\",chisquare_test)\n",
    "print(\"The value of P-value is :\",p_value)\n",
    "print(\"The degree of freedom :\",degree_freedom)\n",
    "\n",
    "\n",
    "null_hypothesis=\" the distribution of job performance levels before training is the same as the distribution of job performance levels after training\"\n",
    "alternate_hypothesis = \"There is a significant difference between job performance levels before and after the training program.\"\n",
    "alpha= 0.05\n",
    "\n",
    "if p_value < alpha :\n",
    "    print(\"Reject the null hypothesis\")\n",
    "else:\n",
    "    print(\"Fail the reject the null hypothesis\")\n",
    "\n",
    "\n",
    "\n",
    "                \n",
    "                \n",
    "                "
   ]
  },
  {
   "cell_type": "code",
   "execution_count": 49,
   "id": "15424002",
   "metadata": {},
   "outputs": [
    {
     "name": "stdout",
     "output_type": "stream",
     "text": [
      "The value of F statistics is  27.03556231003039\n",
      "The value of P_value is : 3.578632885734896e-07\n",
      "Reject the null hypothesis\n"
     ]
    }
   ],
   "source": [
    "# Q24. A company produces three different versions of a product: Standard, Premium, and Deluxe. The \n",
    "# company wants to determine if there is a significant difference in customer satisfaction scores among the \n",
    "# three product versions. They conducted a survey and collected customer satisfaction scores for each \n",
    "# version from a random sample of customers. Perform an ANOVA test to determine if there is a significant \n",
    "# difference in customer satisfaction scores.\n",
    "# Sample data: Customer satisfaction scores for each product version\n",
    "\n",
    "standard_scores = [80, 85, 90, 78, 88, 82, 92, 78, 85, 87]\n",
    "premium_scores = [90, 92, 88, 92, 95, 91, 96, 93, 89, 93]\n",
    "deluxe_scores = [95, 98, 92, 97, 96, 94, 98, 97, 92, 99]\n",
    "\n",
    "null_hypothesis =\"The mean of all the group_score is same\"\n",
    "alternate_hypothesis = \"mean is not same for atleast one group\"\n",
    "\n",
    "\n",
    "df = pd.DataFrame({'Standard_Score':standard_scores,'Premium_Score':premium_scores,'Deluxe_Score':deluxe_scores})\n",
    "f_statistics,p_value = stats.f_oneway(df['Standard_Score'],df['Premium_Score'],df['Deluxe_Score'])\n",
    "\n",
    "print(\"The value of F statistics is \",f_statistics)\n",
    "print(\"The value of P_value is :\",p_value)\n",
    "alpha= 0.05\n",
    "\n",
    "if p_value < alpha :\n",
    "    print(\"Reject the null hypothesis\")\n",
    "else:\n",
    "    print(\"Fail to reject the null hypothesis\")"
   ]
  },
  {
   "cell_type": "code",
   "execution_count": null,
   "id": "0f60558f",
   "metadata": {},
   "outputs": [],
   "source": []
  },
  {
   "cell_type": "code",
   "execution_count": null,
   "id": "9fe88823",
   "metadata": {},
   "outputs": [],
   "source": []
  },
  {
   "cell_type": "code",
   "execution_count": null,
   "id": "191a14fa",
   "metadata": {},
   "outputs": [],
   "source": []
  },
  {
   "cell_type": "code",
   "execution_count": null,
   "id": "26edaae7",
   "metadata": {},
   "outputs": [],
   "source": []
  },
  {
   "cell_type": "code",
   "execution_count": null,
   "id": "e43f59db",
   "metadata": {},
   "outputs": [],
   "source": []
  }
 ],
 "metadata": {
  "kernelspec": {
   "display_name": "Python 3 (ipykernel)",
   "language": "python",
   "name": "python3"
  },
  "language_info": {
   "codemirror_mode": {
    "name": "ipython",
    "version": 3
   },
   "file_extension": ".py",
   "mimetype": "text/x-python",
   "name": "python",
   "nbconvert_exporter": "python",
   "pygments_lexer": "ipython3",
   "version": "3.11.1"
  }
 },
 "nbformat": 4,
 "nbformat_minor": 5
}
